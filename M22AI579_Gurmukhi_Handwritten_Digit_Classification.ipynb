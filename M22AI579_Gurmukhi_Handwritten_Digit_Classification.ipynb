{
  "nbformat": 4,
  "nbformat_minor": 0,
  "metadata": {
    "colab": {
      "provenance": []
    },
    "kernelspec": {
      "name": "python3",
      "display_name": "Python 3"
    },
    "language_info": {
      "name": "python"
    }
  },
  "cells": [
    {
      "cell_type": "code",
      "source": [
        "import zipfile\n",
        "zip_ref = zipfile.ZipFile('/content/GurNum.zip', 'r')\n",
        "zip_ref.extractall('/content')\n",
        "zip_ref.close()"
      ],
      "metadata": {
        "id": "zoUgfZqlGHQC"
      },
      "execution_count": 351,
      "outputs": []
    },
    {
      "cell_type": "code",
      "execution_count": 352,
      "metadata": {
        "id": "SPGDHnxcEvUU"
      },
      "outputs": [],
      "source": [
        "# Define the directory where the original images are located in folders\n",
        "train_dir_path = '/content/GurNum/train/'\n",
        "val_dir_path = '/content/GurNum/val/'\n"
      ]
    },
    {
      "cell_type": "code",
      "source": [
        "import os\n",
        "import numpy as np\n",
        "from tensorflow.keras.preprocessing.image import load_img, img_to_array\n",
        "import tensorflow as tf\n",
        "from tensorflow import keras\n",
        "import matplotlib.pyplot as plt\n",
        "%matplotlib inline\n",
        "\n",
        "\n",
        "# Define the image size and number of channels\n",
        "img_width, img_height, channels = 28, 28, 10\n",
        "\n",
        "# Load the images and labels from the directories\n",
        "\n",
        "def load_data(data_dir):\n",
        "    x = []\n",
        "    y = []\n",
        "    for label in os.listdir(data_dir):\n",
        "        for image_name in os.listdir(os.path.join(data_dir, label)):\n",
        "            image = load_img(os.path.join(data_dir, label, image_name),target_size=(img_width, img_height))\n",
        "            image_arr = img_to_array(image)\n",
        "            x.append(image_arr)\n",
        "            y.append(int(label))\n",
        "    x = np.array(x)\n",
        "    y = np.array(y)\n",
        "    images = np.array(x)\n",
        "    labels = np.array(y)\n",
        "    # Save the arrays in NumPy format\n",
        "    if \"train\" in data_dir:\n",
        "      np.save('x_train.npy', images)\n",
        "      np.save('y_train.npy', labels)\n",
        "\n",
        "    if \"val\" in data_dir:\n",
        "      # Save the arrays in NumPy format\n",
        "      np.save('x_test.npy', images)\n",
        "      np.save('y_test.npy', labels) \n",
        "\n",
        "# Load the dataset\n",
        "load_data(train_dir_path)\n",
        "X_train = np.load('x_train.npy')\n",
        "y_train = np.load('y_train.npy')\n",
        "load_data(val_dir_path)\n",
        "X_test = np.load('x_test.npy')\n",
        "y_test = np.load('y_test.npy')\n"
      ],
      "metadata": {
        "id": "5yW_PxmwPBhE"
      },
      "execution_count": 353,
      "outputs": []
    },
    {
      "cell_type": "code",
      "source": [
        "len(X_train)"
      ],
      "metadata": {
        "colab": {
          "base_uri": "https://localhost:8080/"
        },
        "id": "JlNpx9bmWywS",
        "outputId": "4be0de97-4596-4466-e58d-291f7cd52696"
      },
      "execution_count": 354,
      "outputs": [
        {
          "output_type": "execute_result",
          "data": {
            "text/plain": [
              "1000"
            ]
          },
          "metadata": {},
          "execution_count": 354
        }
      ]
    },
    {
      "cell_type": "code",
      "source": [
        "len(X_test)"
      ],
      "metadata": {
        "colab": {
          "base_uri": "https://localhost:8080/"
        },
        "id": "EvFG2NreW5EA",
        "outputId": "f46c2518-dda9-4f05-c2e8-68c5758ad781"
      },
      "execution_count": 355,
      "outputs": [
        {
          "output_type": "execute_result",
          "data": {
            "text/plain": [
              "178"
            ]
          },
          "metadata": {},
          "execution_count": 355
        }
      ]
    },
    {
      "cell_type": "code",
      "source": [
        "X_train[0].shape"
      ],
      "metadata": {
        "colab": {
          "base_uri": "https://localhost:8080/"
        },
        "id": "VfZbTXY1XCIN",
        "outputId": "d3874338-d5ac-4276-be7b-fedce0936689"
      },
      "execution_count": 356,
      "outputs": [
        {
          "output_type": "execute_result",
          "data": {
            "text/plain": [
              "(28, 28, 3)"
            ]
          },
          "metadata": {},
          "execution_count": 356
        }
      ]
    },
    {
      "cell_type": "code",
      "source": [
        "X_train[0]"
      ],
      "metadata": {
        "colab": {
          "base_uri": "https://localhost:8080/"
        },
        "id": "fG0hOjtkZ3vH",
        "outputId": "96a2d43d-2cbb-4d31-c636-6ddb496a024c"
      },
      "execution_count": 357,
      "outputs": [
        {
          "output_type": "execute_result",
          "data": {
            "text/plain": [
              "array([[[255., 255., 255.],\n",
              "        [255., 255., 255.],\n",
              "        [255., 255., 255.],\n",
              "        ...,\n",
              "        [255., 255., 255.],\n",
              "        [255., 255., 255.],\n",
              "        [255., 255., 255.]],\n",
              "\n",
              "       [[255., 255., 255.],\n",
              "        [  0.,   0.,   0.],\n",
              "        [  0.,   0.,   0.],\n",
              "        ...,\n",
              "        [255., 255., 255.],\n",
              "        [255., 255., 255.],\n",
              "        [255., 255., 255.]],\n",
              "\n",
              "       [[255., 255., 255.],\n",
              "        [  0.,   0.,   0.],\n",
              "        [  0.,   0.,   0.],\n",
              "        ...,\n",
              "        [255., 255., 255.],\n",
              "        [255., 255., 255.],\n",
              "        [255., 255., 255.]],\n",
              "\n",
              "       ...,\n",
              "\n",
              "       [[255., 255., 255.],\n",
              "        [255., 255., 255.],\n",
              "        [255., 255., 255.],\n",
              "        ...,\n",
              "        [255., 255., 255.],\n",
              "        [  0.,   0.,   0.],\n",
              "        [  0.,   0.,   0.]],\n",
              "\n",
              "       [[255., 255., 255.],\n",
              "        [255., 255., 255.],\n",
              "        [255., 255., 255.],\n",
              "        ...,\n",
              "        [255., 255., 255.],\n",
              "        [  0.,   0.,   0.],\n",
              "        [  0.,   0.,   0.]],\n",
              "\n",
              "       [[255., 255., 255.],\n",
              "        [255., 255., 255.],\n",
              "        [255., 255., 255.],\n",
              "        ...,\n",
              "        [255., 255., 255.],\n",
              "        [  0.,   0.,   0.],\n",
              "        [255., 255., 255.]]], dtype=float32)"
            ]
          },
          "metadata": {},
          "execution_count": 357
        }
      ]
    },
    {
      "cell_type": "code",
      "source": [
        "plt.matshow(X_train[0])"
      ],
      "metadata": {
        "colab": {
          "base_uri": "https://localhost:8080/",
          "height": 472
        },
        "id": "sMYzaOboaDSy",
        "outputId": "cc319434-0d5a-47ce-f8a4-94e0ddcdc5cb"
      },
      "execution_count": 358,
      "outputs": [
        {
          "output_type": "stream",
          "name": "stderr",
          "text": [
            "WARNING:matplotlib.image:Clipping input data to the valid range for imshow with RGB data ([0..1] for floats or [0..255] for integers).\n"
          ]
        },
        {
          "output_type": "execute_result",
          "data": {
            "text/plain": [
              "<matplotlib.image.AxesImage at 0x7f1a93cf3b20>"
            ]
          },
          "metadata": {},
          "execution_count": 358
        },
        {
          "output_type": "display_data",
          "data": {
            "text/plain": [
              "<Figure size 480x480 with 1 Axes>"
            ],
            "image/png": "[encoded data removed]"
          },
          "metadata": {}
        }
      ]
    },
    {
      "cell_type": "code",
      "source": [
        "y_train[0]"
      ],
      "metadata": {
        "colab": {
          "base_uri": "https://localhost:8080/"
        },
        "id": "BhrrDunzaN4J",
        "outputId": "aa639b0a-002f-4411-d0ca-535551f0235a"
      },
      "execution_count": 359,
      "outputs": [
        {
          "output_type": "execute_result",
          "data": {
            "text/plain": [
              "5"
            ]
          },
          "metadata": {},
          "execution_count": 359
        }
      ]
    },
    {
      "cell_type": "code",
      "source": [
        "X_train = X_train / 255\n",
        "X_test = X_test / 255"
      ],
      "metadata": {
        "id": "-vSJszOMMH4a"
      },
      "execution_count": 360,
      "outputs": []
    },
    {
      "cell_type": "code",
      "source": [
        "X_train[0]"
      ],
      "metadata": {
        "colab": {
          "base_uri": "https://localhost:8080/"
        },
        "id": "-5YzvbTZqoV5",
        "outputId": "23160adb-fa0c-4bdd-c20c-96a6fcdc3562"
      },
      "execution_count": 361,
      "outputs": [
        {
          "output_type": "execute_result",
          "data": {
            "text/plain": [
              "array([[[1., 1., 1.],\n",
              "        [1., 1., 1.],\n",
              "        [1., 1., 1.],\n",
              "        ...,\n",
              "        [1., 1., 1.],\n",
              "        [1., 1., 1.],\n",
              "        [1., 1., 1.]],\n",
              "\n",
              "       [[1., 1., 1.],\n",
              "        [0., 0., 0.],\n",
              "        [0., 0., 0.],\n",
              "        ...,\n",
              "        [1., 1., 1.],\n",
              "        [1., 1., 1.],\n",
              "        [1., 1., 1.]],\n",
              "\n",
              "       [[1., 1., 1.],\n",
              "        [0., 0., 0.],\n",
              "        [0., 0., 0.],\n",
              "        ...,\n",
              "        [1., 1., 1.],\n",
              "        [1., 1., 1.],\n",
              "        [1., 1., 1.]],\n",
              "\n",
              "       ...,\n",
              "\n",
              "       [[1., 1., 1.],\n",
              "        [1., 1., 1.],\n",
              "        [1., 1., 1.],\n",
              "        ...,\n",
              "        [1., 1., 1.],\n",
              "        [0., 0., 0.],\n",
              "        [0., 0., 0.]],\n",
              "\n",
              "       [[1., 1., 1.],\n",
              "        [1., 1., 1.],\n",
              "        [1., 1., 1.],\n",
              "        ...,\n",
              "        [1., 1., 1.],\n",
              "        [0., 0., 0.],\n",
              "        [0., 0., 0.]],\n",
              "\n",
              "       [[1., 1., 1.],\n",
              "        [1., 1., 1.],\n",
              "        [1., 1., 1.],\n",
              "        ...,\n",
              "        [1., 1., 1.],\n",
              "        [0., 0., 0.],\n",
              "        [1., 1., 1.]]], dtype=float32)"
            ]
          },
          "metadata": {},
          "execution_count": 361
        }
      ]
    },
    {
      "cell_type": "code",
      "source": [
        "model = keras.Sequential([\n",
        " # Using Flatten layer so that we don't have to call .reshape on input dataset   \n",
        " keras.layers.Flatten(),\n",
        " keras.layers.Dense(channels, input_shape=(784,),activation = 'sigmoid')\n",
        "])\n",
        "# compile the nn\n",
        "model.compile(optimizer='adam',\n",
        "              loss='sparse_categorical_crossentropy',\n",
        "              metrics=['accuracy'])\n",
        "# train the model\n",
        "model.fit(X_train, y_train,epochs= 10, validation_data=(X_test, y_test))\n"
      ],
      "metadata": {
        "colab": {
          "base_uri": "https://localhost:8080/"
        },
        "id": "k4AjASOxdcxv",
        "outputId": "76e175d7-63f2-496a-b1ad-34d390e26ceb"
      },
      "execution_count": 362,
      "outputs": [
        {
          "output_type": "stream",
          "name": "stdout",
          "text": [
            "Epoch 1/10\n",
            "32/32 [==============================] - 1s 9ms/step - loss: 1.2911 - accuracy: 0.6060 - val_loss: 0.7100 - val_accuracy: 0.8146\n",
            "Epoch 2/10\n",
            "32/32 [==============================] - 0s 4ms/step - loss: 0.3047 - accuracy: 0.9370 - val_loss: 0.4277 - val_accuracy: 0.8652\n",
            "Epoch 3/10\n",
            "32/32 [==============================] - 0s 4ms/step - loss: 0.1936 - accuracy: 0.9540 - val_loss: 0.3313 - val_accuracy: 0.9270\n",
            "Epoch 4/10\n",
            "32/32 [==============================] - 0s 4ms/step - loss: 0.1481 - accuracy: 0.9630 - val_loss: 0.2972 - val_accuracy: 0.9270\n",
            "Epoch 5/10\n",
            "32/32 [==============================] - 0s 4ms/step - loss: 0.1201 - accuracy: 0.9750 - val_loss: 0.2978 - val_accuracy: 0.9213\n",
            "Epoch 6/10\n",
            "32/32 [==============================] - 0s 4ms/step - loss: 0.1005 - accuracy: 0.9830 - val_loss: 0.2454 - val_accuracy: 0.9382\n",
            "Epoch 7/10\n",
            "32/32 [==============================] - 0s 4ms/step - loss: 0.0843 - accuracy: 0.9870 - val_loss: 0.2306 - val_accuracy: 0.9438\n",
            "Epoch 8/10\n",
            "32/32 [==============================] - 0s 4ms/step - loss: 0.0649 - accuracy: 0.9920 - val_loss: 0.2130 - val_accuracy: 0.9551\n",
            "Epoch 9/10\n",
            "32/32 [==============================] - 0s 4ms/step - loss: 0.0578 - accuracy: 0.9940 - val_loss: 0.2329 - val_accuracy: 0.9382\n",
            "Epoch 10/10\n",
            "32/32 [==============================] - 0s 4ms/step - loss: 0.0496 - accuracy: 0.9960 - val_loss: 0.1910 - val_accuracy: 0.9551\n"
          ]
        },
        {
          "output_type": "execute_result",
          "data": {
            "text/plain": [
              "<keras.callbacks.History at 0x7f1a93df8dc0>"
            ]
          },
          "metadata": {},
          "execution_count": 362
        }
      ]
    },
    {
      "cell_type": "code",
      "source": [
        "model.evaluate(X_test, y_test)"
      ],
      "metadata": {
        "colab": {
          "base_uri": "https://localhost:8080/"
        },
        "id": "veuvvzbQruXy",
        "outputId": "c02b5b6e-9566-4889-f3df-5e950618587d"
      },
      "execution_count": 363,
      "outputs": [
        {
          "output_type": "stream",
          "name": "stdout",
          "text": [
            "6/6 [==============================] - 0s 3ms/step - loss: 0.1910 - accuracy: 0.9551\n"
          ]
        },
        {
          "output_type": "execute_result",
          "data": {
            "text/plain": [
              "[0.19101226329803467, 0.9550561904907227]"
            ]
          },
          "metadata": {},
          "execution_count": 363
        }
      ]
    },
    {
      "cell_type": "code",
      "source": [
        "y_predicted = model.predict(X_test)\n",
        "y_predicted[0]"
      ],
      "metadata": {
        "colab": {
          "base_uri": "https://localhost:8080/"
        },
        "id": "pz3ZtlWRr5Wh",
        "outputId": "3b337f73-0861-4b0a-85ef-264988544bab"
      },
      "execution_count": 364,
      "outputs": [
        {
          "output_type": "stream",
          "name": "stdout",
          "text": [
            "6/6 [==============================] - 0s 2ms/step\n"
          ]
        },
        {
          "output_type": "execute_result",
          "data": {
            "text/plain": [
              "array([0.00920351, 0.01098865, 0.36509338, 0.624434  , 0.81972   ,\n",
              "       0.9994503 , 0.03300745, 0.4549194 , 0.20751916, 0.04534071],\n",
              "      dtype=float32)"
            ]
          },
          "metadata": {},
          "execution_count": 364
        }
      ]
    },
    {
      "cell_type": "code",
      "source": [
        "plt.matshow(X_test[0])"
      ],
      "metadata": {
        "colab": {
          "base_uri": "https://localhost:8080/",
          "height": 454
        },
        "id": "hEjeIODWsThv",
        "outputId": "a934687e-6ffb-4e02-ab8a-27321badf1ce"
      },
      "execution_count": 365,
      "outputs": [
        {
          "output_type": "execute_result",
          "data": {
            "text/plain": [
              "<matplotlib.image.AxesImage at 0x7f1a93c66500>"
            ]
          },
          "metadata": {},
          "execution_count": 365
        },
        {
          "output_type": "display_data",
          "data": {
            "text/plain": [
              "<Figure size 480x480 with 1 Axes>"
            ],
            "image/png": "[encoded data removed]"
          },
          "metadata": {}
        }
      ]
    },
    {
      "cell_type": "code",
      "source": [
        "#np.argmax finds a maximum element from an array and returns the index of it\n",
        "np.argmax(y_predicted[0])"
      ],
      "metadata": {
        "colab": {
          "base_uri": "https://localhost:8080/"
        },
        "id": "KVw61_b5sbG4",
        "outputId": "a1c05f62-6a57-46bd-8fb5-acec4b93a3c5"
      },
      "execution_count": 366,
      "outputs": [
        {
          "output_type": "execute_result",
          "data": {
            "text/plain": [
              "5"
            ]
          },
          "metadata": {},
          "execution_count": 366
        }
      ]
    },
    {
      "cell_type": "code",
      "source": [
        "y_predicted_labels = [np.argmax(i) for i in y_predicted]"
      ],
      "metadata": {
        "id": "AvvBckeItDFN"
      },
      "execution_count": 367,
      "outputs": []
    },
    {
      "cell_type": "code",
      "source": [
        "y_predicted_labels[:5]"
      ],
      "metadata": {
        "colab": {
          "base_uri": "https://localhost:8080/"
        },
        "id": "ZuUF19lrtSpF",
        "outputId": "b12cf9f5-f770-4829-912c-bca7e24170aa"
      },
      "execution_count": 368,
      "outputs": [
        {
          "output_type": "execute_result",
          "data": {
            "text/plain": [
              "[5, 5, 5, 5, 5]"
            ]
          },
          "metadata": {},
          "execution_count": 368
        }
      ]
    },
    {
      "cell_type": "code",
      "source": [
        "cm = tf.math.confusion_matrix(labels=y_test,predictions=y_predicted_labels)\n",
        "cm"
      ],
      "metadata": {
        "colab": {
          "base_uri": "https://localhost:8080/"
        },
        "id": "1HYw-74nszpW",
        "outputId": "69201d3d-20c3-4f66-8c39-6ff9fcbeaab6"
      },
      "execution_count": 369,
      "outputs": [
        {
          "output_type": "execute_result",
          "data": {
            "text/plain": [
              "<tf.Tensor: shape=(10, 10), dtype=int32, numpy=\n",
              "array([[17,  0,  0,  0,  0,  0,  0,  0,  1,  0],\n",
              "       [ 0, 14,  0,  0,  0,  0,  0,  2,  0,  0],\n",
              "       [ 0,  0, 14,  1,  1,  1,  0,  0,  0,  0],\n",
              "       [ 0,  0,  0, 17,  0,  0,  0,  0,  0,  0],\n",
              "       [ 0,  0,  0,  0, 18,  0,  0,  0,  0,  0],\n",
              "       [ 0,  0,  0,  0,  0, 18,  0,  0,  0,  0],\n",
              "       [ 0,  0,  0,  0,  0,  0, 18,  0,  0,  0],\n",
              "       [ 0,  2,  0,  0,  0,  0,  0, 16,  0,  0],\n",
              "       [ 0,  0,  0,  0,  0,  0,  0,  0, 18,  0],\n",
              "       [ 0,  0,  0,  0,  0,  0,  0,  0,  0, 20]], dtype=int32)>"
            ]
          },
          "metadata": {},
          "execution_count": 369
        }
      ]
    },
    {
      "cell_type": "code",
      "source": [
        "import seaborn as sn\n",
        "plt.figure(figsize = (10,7))\n",
        "sn.heatmap(cm, annot=True, fmt='d')\n",
        "plt.xlabel('Predicted')\n",
        "plt.ylabel('Truth')"
      ],
      "metadata": {
        "colab": {
          "base_uri": "https://localhost:8080/",
          "height": 641
        },
        "id": "fTXL6gPLteNT",
        "outputId": "6d9ee24d-c3f8-493e-e080-5d901e69e36e"
      },
      "execution_count": 370,
      "outputs": [
        {
          "output_type": "execute_result",
          "data": {
            "text/plain": [
              "Text(95.72222222222221, 0.5, 'Truth')"
            ]
          },
          "metadata": {},
          "execution_count": 370
        },
        {
          "output_type": "display_data",
          "data": {
            "text/plain": [
              "<Figure size 1000x700 with 2 Axes>"
            ],
            "image/png": "[encoded data removed]"
          },
          "metadata": {}
        }
      ]
    },
    {
      "cell_type": "code",
      "source": [
        "#Using hidden layer\n",
        "model2 = keras.Sequential([\n",
        " keras.layers.Flatten(),\n",
        " keras.layers.Dense(300, input_shape=(784,), activation='relu'),\n",
        " keras.layers.Dense(channels,activation = 'sigmoid')\n",
        "])\n",
        "# compile the nn\n",
        "model2.compile(optimizer='adam',\n",
        "              loss='sparse_categorical_crossentropy',\n",
        "              metrics=['accuracy'])\n",
        "# train the model\n",
        "model2.fit(X_train, y_train,epochs= 10, validation_data=(X_test, y_test))\n"
      ],
      "metadata": {
        "colab": {
          "base_uri": "https://localhost:8080/"
        },
        "id": "8TyFf7unuBr-",
        "outputId": "c5a5116c-4e4a-424c-c8b9-62b98ba19854"
      },
      "execution_count": 371,
      "outputs": [
        {
          "output_type": "stream",
          "name": "stdout",
          "text": [
            "Epoch 1/10\n",
            "32/32 [==============================] - 1s 22ms/step - loss: 1.4000 - accuracy: 0.6410 - val_loss: 0.5170 - val_accuracy: 0.8258\n",
            "Epoch 2/10\n",
            "32/32 [==============================] - 1s 16ms/step - loss: 0.2704 - accuracy: 0.9010 - val_loss: 0.4411 - val_accuracy: 0.8820\n",
            "Epoch 3/10\n",
            "32/32 [==============================] - 0s 15ms/step - loss: 0.1785 - accuracy: 0.9400 - val_loss: 0.2453 - val_accuracy: 0.9326\n",
            "Epoch 4/10\n",
            "32/32 [==============================] - 0s 14ms/step - loss: 0.0898 - accuracy: 0.9810 - val_loss: 0.2387 - val_accuracy: 0.9326\n",
            "Epoch 5/10\n",
            "32/32 [==============================] - 0s 14ms/step - loss: 0.0814 - accuracy: 0.9770 - val_loss: 0.2145 - val_accuracy: 0.9382\n",
            "Epoch 6/10\n",
            "32/32 [==============================] - 0s 15ms/step - loss: 0.0571 - accuracy: 0.9890 - val_loss: 0.2081 - val_accuracy: 0.9382\n",
            "Epoch 7/10\n",
            "32/32 [==============================] - 0s 15ms/step - loss: 0.0540 - accuracy: 0.9880 - val_loss: 0.1858 - val_accuracy: 0.9494\n",
            "Epoch 8/10\n",
            "32/32 [==============================] - 0s 11ms/step - loss: 0.0350 - accuracy: 0.9930 - val_loss: 0.1892 - val_accuracy: 0.9494\n",
            "Epoch 9/10\n",
            "32/32 [==============================] - 0s 11ms/step - loss: 0.0745 - accuracy: 0.9740 - val_loss: 0.1910 - val_accuracy: 0.9382\n",
            "Epoch 10/10\n",
            "32/32 [==============================] - 0s 11ms/step - loss: 0.0314 - accuracy: 0.9930 - val_loss: 0.1849 - val_accuracy: 0.9270\n"
          ]
        },
        {
          "output_type": "execute_result",
          "data": {
            "text/plain": [
              "<keras.callbacks.History at 0x7f1a93a36e60>"
            ]
          },
          "metadata": {},
          "execution_count": 371
        }
      ]
    },
    {
      "cell_type": "code",
      "source": [
        "# lets do random prediction \n",
        "plt.matshow(x_test[50])\n",
        "print('Predicted Value is ',np.argmax(y_predicted[50]))\n",
        "plt.matshow(x_test[100])\n",
        "print('Predicted Value is ',np.argmax(y_predicted[100]))"
      ],
      "metadata": {
        "colab": {
          "base_uri": "https://localhost:8080/",
          "height": 926
        },
        "id": "4OwCxuSpZTyR",
        "outputId": "31712476-99b9-43b3-eb18-2af17725b0cb"
      },
      "execution_count": 378,
      "outputs": [
        {
          "output_type": "stream",
          "name": "stderr",
          "text": [
            "WARNING:matplotlib.image:Clipping input data to the valid range for imshow with RGB data ([0..1] for floats or [0..255] for integers).\n",
            "WARNING:matplotlib.image:Clipping input data to the valid range for imshow with RGB data ([0..1] for floats or [0..255] for integers).\n"
          ]
        },
        {
          "output_type": "stream",
          "name": "stdout",
          "text": [
            "Predicted Value is  8\n",
            "Predicted Value is  1\n"
          ]
        },
        {
          "output_type": "display_data",
          "data": {
            "text/plain": [
              "<Figure size 480x480 with 1 Axes>"
            ],
            "image/png": "[encoded data removed]"
          },
          "metadata": {}
        },
        {
          "output_type": "display_data",
          "data": {
            "text/plain": [
              "<Figure size 480x480 with 1 Axes>"
            ],
            "image/png": "[encoded data removed]"
          },
          "metadata": {}
        }
      ]
    },
    {
      "cell_type": "code",
      "source": [
        "# Train the model\n",
        "history = model.fit(X_train, y_train, validation_data=(X_test, y_test), epochs=10, batch_size=32)\n",
        "\n",
        "# Evaluate the model\n",
        "test_loss, test_acc = model.evaluate(X_test, y_test)\n",
        "print('Test loss:', test_loss)\n",
        "print('Test accuracy:', test_acc,test_loss)\n",
        "\n",
        "\n",
        "# Plot the training and validation accuracy\n",
        "plt.plot(history.history['accuracy'], label='Training Accuracy')\n",
        "plt.plot(history.history['val_accuracy'], label='Validation Accuracy')\n",
        "plt.xlabel('Epoch')\n",
        "plt.ylabel('Accuracy')\n",
        "plt.legend()\n",
        "plt.show()"
      ],
      "metadata": {
        "colab": {
          "base_uri": "https://localhost:8080/",
          "height": 848
        },
        "id": "wBZYwTRwRO8b",
        "outputId": "95b1f23a-97f2-428e-e649-e4d414e5ae99"
      },
      "execution_count": 379,
      "outputs": [
        {
          "output_type": "stream",
          "name": "stdout",
          "text": [
            "Epoch 1/10\n",
            "32/32 [==============================] - 0s 5ms/step - loss: 2.1212e-06 - accuracy: 1.0000 - val_loss: 0.3185 - val_accuracy: 0.9494\n",
            "Epoch 2/10\n",
            "32/32 [==============================] - 0s 3ms/step - loss: 2.0825e-06 - accuracy: 1.0000 - val_loss: 0.3142 - val_accuracy: 0.9494\n",
            "Epoch 3/10\n",
            "32/32 [==============================] - 0s 4ms/step - loss: 1.9961e-06 - accuracy: 1.0000 - val_loss: 0.3125 - val_accuracy: 0.9494\n",
            "Epoch 4/10\n",
            "32/32 [==============================] - 0s 4ms/step - loss: 1.9570e-06 - accuracy: 1.0000 - val_loss: 0.3176 - val_accuracy: 0.9494\n",
            "Epoch 5/10\n",
            "32/32 [==============================] - 0s 3ms/step - loss: 1.9406e-06 - accuracy: 1.0000 - val_loss: 0.3141 - val_accuracy: 0.9494\n",
            "Epoch 6/10\n",
            "32/32 [==============================] - 0s 4ms/step - loss: 1.8926e-06 - accuracy: 1.0000 - val_loss: 0.3158 - val_accuracy: 0.9494\n",
            "Epoch 7/10\n",
            "32/32 [==============================] - 0s 4ms/step - loss: 1.8991e-06 - accuracy: 1.0000 - val_loss: 0.3152 - val_accuracy: 0.9494\n",
            "Epoch 8/10\n",
            "32/32 [==============================] - 0s 4ms/step - loss: 1.8434e-06 - accuracy: 1.0000 - val_loss: 0.3120 - val_accuracy: 0.9494\n",
            "Epoch 9/10\n",
            "32/32 [==============================] - 0s 6ms/step - loss: 1.7943e-06 - accuracy: 1.0000 - val_loss: 0.3183 - val_accuracy: 0.9494\n",
            "Epoch 10/10\n",
            "32/32 [==============================] - 0s 6ms/step - loss: 1.7877e-06 - accuracy: 1.0000 - val_loss: 0.3213 - val_accuracy: 0.9494\n",
            "6/6 [==============================] - 0s 4ms/step - loss: 0.3213 - accuracy: 0.9494\n",
            "Test loss: 0.3213176131248474\n",
            "Test accuracy: 0.949438214302063 0.3213176131248474\n"
          ]
        },
        {
          "output_type": "display_data",
          "data": {
            "text/plain": [
              "<Figure size 640x480 with 1 Axes>"
            ],
            "image/png": "[encoded data removed]"
          },
          "metadata": {}
        }
      ]
    }
  ]
}